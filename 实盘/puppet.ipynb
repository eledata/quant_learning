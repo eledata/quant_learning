{
 "cells": [
  {
   "cell_type": "code",
   "execution_count": 1,
   "metadata": {},
   "outputs": [],
   "source": [
    "import easytrader as et"
   ]
  },
  {
   "cell_type": "code",
   "execution_count": 2,
   "metadata": {},
   "outputs": [],
   "source": [
    "user = et.use('ths')"
   ]
  },
  {
   "cell_type": "code",
   "execution_count": 10,
   "metadata": {},
   "outputs": [],
   "source": [
    "path = r'C:\\同花顺软件\\同花顺\\xiadan.exe'"
   ]
  },
  {
   "cell_type": "code",
   "execution_count": 2,
   "metadata": {},
   "outputs": [],
   "source": [
    "password = 'hao54321'"
   ]
  },
  {
   "cell_type": "code",
   "execution_count": 11,
   "metadata": {},
   "outputs": [
    {
     "name": "stderr",
     "output_type": "stream",
     "text": [
      "C:\\ProgramData\\Anaconda3\\lib\\site-packages\\pywinauto-0.6.5-py3.6.egg\\pywinauto\\application.py:1055: UserWarning: 32-bit application should be automated using 32-bit Python (you use 64-bit Python)\n",
      "  UserWarning)\n"
     ]
    }
   ],
   "source": [
    "user.connect(path)"
   ]
  },
  {
   "cell_type": "code",
   "execution_count": 13,
   "metadata": {
    "collapsed": true
   },
   "outputs": [
    {
     "name": "stderr",
     "output_type": "stream",
     "text": [
      "C:\\ProgramData\\Anaconda3\\lib\\site-packages\\pywinauto-0.6.5-py3.6.egg\\pywinauto\\controls\\common_controls.py:1522: DeprecationWarning: Method .Next() is deprecated, use .next_item() instead.\n",
      "C:\\ProgramData\\Anaconda3\\lib\\site-packages\\pywinauto-0.6.5-py3.6.egg\\pywinauto\\controls\\common_controls.py:1522: DeprecationWarning: Method .Next() is deprecated, use .next_item() instead.\n",
      "C:\\ProgramData\\Anaconda3\\lib\\site-packages\\pywinauto-0.6.5-py3.6.egg\\pywinauto\\controls\\common_controls.py:1522: DeprecationWarning: Method .Next() is deprecated, use .next_item() instead.\n",
      "C:\\ProgramData\\Anaconda3\\lib\\site-packages\\pywinauto-0.6.5-py3.6.egg\\pywinauto\\controls\\common_controls.py:1522: DeprecationWarning: Method .Next() is deprecated, use .next_item() instead.\n",
      "C:\\ProgramData\\Anaconda3\\lib\\site-packages\\pywinauto-0.6.5-py3.6.egg\\pywinauto\\controls\\common_controls.py:1522: DeprecationWarning: Method .Next() is deprecated, use .next_item() instead.\n",
      "C:\\ProgramData\\Anaconda3\\lib\\site-packages\\pywinauto-0.6.5-py3.6.egg\\pywinauto\\controls\\common_controls.py:1522: DeprecationWarning: Method .Next() is deprecated, use .next_item() instead.\n",
      "C:\\ProgramData\\Anaconda3\\lib\\site-packages\\pywinauto-0.6.5-py3.6.egg\\pywinauto\\controls\\common_controls.py:1522: DeprecationWarning: Method .Next() is deprecated, use .next_item() instead.\n",
      "C:\\ProgramData\\Anaconda3\\lib\\site-packages\\pywinauto-0.6.5-py3.6.egg\\pywinauto\\controls\\common_controls.py:1522: DeprecationWarning: Method .Next() is deprecated, use .next_item() instead.\n",
      "C:\\ProgramData\\Anaconda3\\lib\\site-packages\\pywinauto-0.6.5-py3.6.egg\\pywinauto\\controls\\common_controls.py:1522: DeprecationWarning: Method .Next() is deprecated, use .next_item() instead.\n",
      "C:\\ProgramData\\Anaconda3\\lib\\site-packages\\pywinauto-0.6.5-py3.6.egg\\pywinauto\\controls\\common_controls.py:1522: DeprecationWarning: Method .Next() is deprecated, use .next_item() instead.\n",
      "C:\\ProgramData\\Anaconda3\\lib\\site-packages\\pywinauto-0.6.5-py3.6.egg\\pywinauto\\application.py:282: DeprecationWarning: WindowSpecification.Window() WindowSpecification.Window_(), WindowSpecification.window() and WindowSpecification.window_() are deprecated, please switch to WindowSpecification.child_window()\n",
      "  DeprecationWarning)\n"
     ]
    },
    {
     "ename": "ValueError",
     "evalue": "could not convert string to float: '-'",
     "output_type": "error",
     "traceback": [
      "\u001b[1;31m---------------------------------------------------------------------------\u001b[0m",
      "\u001b[1;31mValueError\u001b[0m                                Traceback (most recent call last)",
      "\u001b[1;32m<ipython-input-13-1fb411890304>\u001b[0m in \u001b[0;36m<module>\u001b[1;34m()\u001b[0m\n\u001b[1;32m----> 1\u001b[1;33m \u001b[0muser\u001b[0m\u001b[1;33m.\u001b[0m\u001b[0mbalance\u001b[0m\u001b[1;33m\u001b[0m\u001b[0m\n\u001b[0m",
      "\u001b[1;32mC:\\ProgramData\\Anaconda3\\lib\\site-packages\\easytrader-0.18.2-py3.6.egg\\easytrader\\clienttrader.py\u001b[0m in \u001b[0;36mbalance\u001b[1;34m(self)\u001b[0m\n\u001b[0;32m     94\u001b[0m         \u001b[0mself\u001b[0m\u001b[1;33m.\u001b[0m\u001b[0m_switch_left_menus\u001b[0m\u001b[1;33m(\u001b[0m\u001b[1;33m[\u001b[0m\u001b[1;34m\"查询[F4]\"\u001b[0m\u001b[1;33m,\u001b[0m \u001b[1;34m\"资金股票\"\u001b[0m\u001b[1;33m]\u001b[0m\u001b[1;33m)\u001b[0m\u001b[1;33m\u001b[0m\u001b[0m\n\u001b[0;32m     95\u001b[0m \u001b[1;33m\u001b[0m\u001b[0m\n\u001b[1;32m---> 96\u001b[1;33m         \u001b[1;32mreturn\u001b[0m \u001b[0mself\u001b[0m\u001b[1;33m.\u001b[0m\u001b[0m_get_balance_from_statics\u001b[0m\u001b[1;33m(\u001b[0m\u001b[1;33m)\u001b[0m\u001b[1;33m\u001b[0m\u001b[0m\n\u001b[0m\u001b[0;32m     97\u001b[0m \u001b[1;33m\u001b[0m\u001b[0m\n\u001b[0;32m     98\u001b[0m     \u001b[1;32mdef\u001b[0m \u001b[0m_get_balance_from_statics\u001b[0m\u001b[1;33m(\u001b[0m\u001b[0mself\u001b[0m\u001b[1;33m)\u001b[0m\u001b[1;33m:\u001b[0m\u001b[1;33m\u001b[0m\u001b[0m\n",
      "\u001b[1;32mC:\\ProgramData\\Anaconda3\\lib\\site-packages\\easytrader-0.18.2-py3.6.egg\\easytrader\\clienttrader.py\u001b[0m in \u001b[0;36m_get_balance_from_statics\u001b[1;34m(self)\u001b[0m\n\u001b[0;32m    101\u001b[0m             result[key] = float(\n\u001b[0;32m    102\u001b[0m                 self._main.window(\n\u001b[1;32m--> 103\u001b[1;33m                     \u001b[0mcontrol_id\u001b[0m\u001b[1;33m=\u001b[0m\u001b[0mcontrol_id\u001b[0m\u001b[1;33m,\u001b[0m \u001b[0mclass_name\u001b[0m\u001b[1;33m=\u001b[0m\u001b[1;34m\"Static\"\u001b[0m\u001b[1;33m\u001b[0m\u001b[0m\n\u001b[0m\u001b[0;32m    104\u001b[0m                 ).window_text()\n\u001b[0;32m    105\u001b[0m             )\n",
      "\u001b[1;31mValueError\u001b[0m: could not convert string to float: '-'"
     ]
    }
   ],
   "source": [
    "user.balance"
   ]
  },
  {
   "cell_type": "code",
   "execution_count": 3,
   "metadata": {},
   "outputs": [],
   "source": [
    "import puppet"
   ]
  },
  {
   "cell_type": "code",
   "execution_count": 4,
   "metadata": {},
   "outputs": [],
   "source": [
    "quant = puppet.Client()"
   ]
  },
  {
   "cell_type": "code",
   "execution_count": 13,
   "metadata": {},
   "outputs": [
    {
     "name": "stdout",
     "output_type": "stream",
     "text": [
      "2018-11-19 17:32:55 Mon 正在尝试运行客户端(\"C:\\同花顺软件\\同花顺\\xiadan.exe\")...\n",
      "\n",
      "2018-11-19 17:33:01 Mon 正在尝试登入交易服务器...\n"
     ]
    },
    {
     "ename": "AttributeError",
     "evalue": "hLogin",
     "output_type": "error",
     "traceback": [
      "\u001b[1;31m---------------------------------------------------------------------------\u001b[0m",
      "\u001b[1;31mAttributeError\u001b[0m                            Traceback (most recent call last)",
      "\u001b[1;32m<ipython-input-13-c04a6a9eb35d>\u001b[0m in \u001b[0;36m<module>\u001b[1;34m()\u001b[0m\n\u001b[0;32m      1\u001b[0m quant.login(account_no='46788201', password=password, comm_pwd=password,\n\u001b[1;32m----> 2\u001b[1;33m             client_path=path)\n\u001b[0m",
      "\u001b[1;32mC:\\ProgramData\\Anaconda3\\lib\\site-packages\\puppet-0.7.6-py3.6.egg\\puppet\\client.py\u001b[0m in \u001b[0;36mlogin\u001b[1;34m(self, account_no, password, comm_pwd, client_path, ocr, **kwargs)\u001b[0m\n\u001b[0;32m    156\u001b[0m         \u001b[0mlparam\u001b[0m \u001b[1;33m=\u001b[0m \u001b[1;33m[\u001b[0m\u001b[0maccount_no\u001b[0m\u001b[1;33m,\u001b[0m \u001b[0mpassword\u001b[0m\u001b[1;33m,\u001b[0m \u001b[0mcomm_pwd\u001b[0m\u001b[1;33m]\u001b[0m\u001b[1;33m\u001b[0m\u001b[0m\n\u001b[0;32m    157\u001b[0m         \u001b[0mlparam\u001b[0m \u001b[1;33m=\u001b[0m \u001b[0miter\u001b[0m\u001b[1;33m(\u001b[0m\u001b[0mlparam\u001b[0m\u001b[1;33m)\u001b[0m\u001b[1;33m\u001b[0m\u001b[0m\n\u001b[1;32m--> 158\u001b[1;33m         \u001b[0muser32\u001b[0m\u001b[1;33m.\u001b[0m\u001b[0mEnumChildWindows\u001b[0m\u001b[1;33m(\u001b[0m\u001b[0mself\u001b[0m\u001b[1;33m.\u001b[0m\u001b[0mhLogin\u001b[0m\u001b[1;33m,\u001b[0m \u001b[0mmatch\u001b[0m\u001b[1;33m,\u001b[0m \u001b[1;32mNone\u001b[0m\u001b[1;33m)\u001b[0m\u001b[1;33m\u001b[0m\u001b[0m\n\u001b[0m\u001b[0;32m    159\u001b[0m         \u001b[0mself\u001b[0m\u001b[1;33m.\u001b[0m\u001b[0mwait\u001b[0m\u001b[1;33m(\u001b[0m\u001b[1;36m0.5\u001b[0m\u001b[1;33m)\u001b[0m\u001b[1;33m.\u001b[0m\u001b[0mclick_button\u001b[0m\u001b[1;33m(\u001b[0m\u001b[0mself\u001b[0m\u001b[1;33m.\u001b[0m\u001b[0mhLogin\u001b[0m\u001b[1;33m,\u001b[0m \u001b[0mid_btn\u001b[0m\u001b[1;33m=\u001b[0m\u001b[1;36m1006\u001b[0m\u001b[1;33m)\u001b[0m\u001b[1;33m\u001b[0m\u001b[0m\n\u001b[0;32m    160\u001b[0m \u001b[1;33m\u001b[0m\u001b[0m\n",
      "\u001b[1;32mC:\\ProgramData\\Anaconda3\\lib\\site-packages\\puppet-0.7.6-py3.6.egg\\puppet\\client.py\u001b[0m in \u001b[0;36m__getattr__\u001b[1;34m(self, attrname)\u001b[0m\n\u001b[0;32m    281\u001b[0m \u001b[1;33m\u001b[0m\u001b[0m\n\u001b[0;32m    282\u001b[0m     \u001b[1;32mdef\u001b[0m \u001b[0m__getattr__\u001b[0m\u001b[1;33m(\u001b[0m\u001b[0mself\u001b[0m\u001b[1;33m,\u001b[0m \u001b[0mattrname\u001b[0m\u001b[1;33m)\u001b[0m\u001b[1;33m:\u001b[0m\u001b[1;33m\u001b[0m\u001b[0m\n\u001b[1;32m--> 283\u001b[1;33m         \u001b[1;32mreturn\u001b[0m \u001b[0mself\u001b[0m\u001b[1;33m.\u001b[0m\u001b[0mquery\u001b[0m\u001b[1;33m(\u001b[0m\u001b[0mattrname\u001b[0m\u001b[1;33m)\u001b[0m\u001b[1;33m\u001b[0m\u001b[0m\n\u001b[0m\u001b[0;32m    284\u001b[0m \u001b[1;33m\u001b[0m\u001b[0m\n\u001b[0;32m    285\u001b[0m     \u001b[1;34m\"Development\"\u001b[0m\u001b[1;33m\u001b[0m\u001b[0m\n",
      "\u001b[1;32mC:\\ProgramData\\Anaconda3\\lib\\site-packages\\puppet-0.7.6-py3.6.egg\\puppet\\client.py\u001b[0m in \u001b[0;36mquery\u001b[1;34m(self, category)\u001b[0m\n\u001b[0;32m    265\u001b[0m     \u001b[1;32mdef\u001b[0m \u001b[0mquery\u001b[0m\u001b[1;33m(\u001b[0m\u001b[0mself\u001b[0m\u001b[1;33m,\u001b[0m \u001b[0mcategory\u001b[0m\u001b[1;33m)\u001b[0m\u001b[1;33m:\u001b[0m\u001b[1;33m\u001b[0m\u001b[0m\n\u001b[0;32m    266\u001b[0m         \u001b[1;32mif\u001b[0m \u001b[0mcategory\u001b[0m \u001b[1;32mnot\u001b[0m \u001b[1;32min\u001b[0m \u001b[0mself\u001b[0m\u001b[1;33m.\u001b[0m\u001b[0mATTRS\u001b[0m\u001b[1;33m:\u001b[0m\u001b[1;33m\u001b[0m\u001b[0m\n\u001b[1;32m--> 267\u001b[1;33m             \u001b[1;32mraise\u001b[0m \u001b[0mAttributeError\u001b[0m\u001b[1;33m(\u001b[0m\u001b[0mcategory\u001b[0m\u001b[1;33m)\u001b[0m\u001b[1;33m\u001b[0m\u001b[0m\n\u001b[0m\u001b[0;32m    268\u001b[0m         \u001b[1;32mif\u001b[0m \u001b[0mcategory\u001b[0m \u001b[1;32min\u001b[0m \u001b[1;33m(\u001b[0m\u001b[1;34m'account'\u001b[0m\u001b[1;33m,\u001b[0m \u001b[1;34m'mkt'\u001b[0m\u001b[1;33m)\u001b[0m\u001b[1;33m:\u001b[0m\u001b[1;33m\u001b[0m\u001b[0m\n\u001b[0;32m    269\u001b[0m             \u001b[1;32mreturn\u001b[0m \u001b[0mself\u001b[0m\u001b[1;33m.\u001b[0m\u001b[0m_text\u001b[0m\u001b[1;33m(\u001b[0m\u001b[0mself\u001b[0m\u001b[1;33m.\u001b[0m\u001b[0mget_handle\u001b[0m\u001b[1;33m(\u001b[0m\u001b[1;34m'account'\u001b[0m\u001b[1;33m)\u001b[0m\u001b[1;33m)\u001b[0m\u001b[1;33m\u001b[0m\u001b[0m\n",
      "\u001b[1;31mAttributeError\u001b[0m: hLogin"
     ]
    }
   ],
   "source": [
    "quant.login(account_no='46788201', password=password, comm_pwd=password,\n",
    "            client_path=path)"
   ]
  },
  {
   "cell_type": "code",
   "execution_count": 8,
   "metadata": {},
   "outputs": [],
   "source": [
    "?quant.login"
   ]
  }
 ],
 "metadata": {
  "kernelspec": {
   "display_name": "Python 3",
   "language": "python",
   "name": "python3"
  },
  "language_info": {
   "codemirror_mode": {
    "name": "ipython",
    "version": 3
   },
   "file_extension": ".py",
   "mimetype": "text/x-python",
   "name": "python",
   "nbconvert_exporter": "python",
   "pygments_lexer": "ipython3",
   "version": "3.6.5"
  },
  "toc": {
   "base_numbering": 1,
   "nav_menu": {},
   "number_sections": true,
   "sideBar": true,
   "skip_h1_title": false,
   "title_cell": "Table of Contents",
   "title_sidebar": "Contents",
   "toc_cell": false,
   "toc_position": {},
   "toc_section_display": true,
   "toc_window_display": false
  },
  "varInspector": {
   "cols": {
    "lenName": 16,
    "lenType": 16,
    "lenVar": 40
   },
   "kernels_config": {
    "python": {
     "delete_cmd_postfix": "",
     "delete_cmd_prefix": "del ",
     "library": "var_list.py",
     "varRefreshCmd": "print(var_dic_list())"
    },
    "r": {
     "delete_cmd_postfix": ") ",
     "delete_cmd_prefix": "rm(",
     "library": "var_list.r",
     "varRefreshCmd": "cat(var_dic_list()) "
    }
   },
   "types_to_exclude": [
    "module",
    "function",
    "builtin_function_or_method",
    "instance",
    "_Feature"
   ],
   "window_display": false
  }
 },
 "nbformat": 4,
 "nbformat_minor": 2
}
