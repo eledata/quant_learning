{
 "cells": [
  {
   "cell_type": "markdown",
   "metadata": {},
   "source": [
    "到底什么是最重要的呢\n",
    "如果我们把量化当作一门学科看待的话，包含的内容实在太多了，数学，心理学，经济学，博弈论，计算机，信息论，光数学就包含数学分析，高等代数，统计学，高等概率论，随机分析，微分方程，数值分析等等～～\n",
    "太多太多，所以我们需要有所侧重，了解本次量化训练营的重点，\n",
    "本次课的重点是了解量化策略的开发流程，一个成功量化策略由哪些要素构成，我们会把策略中每个环节模块化，逐一进行讲解。\n",
    "我们会从实战的角度出发，编写现在最常用，最基础的策略，数学建模从来都是一个逐步求精的过程，策略的开发也不例外，\n",
    "\n",
    "\n",
    "\n",
    "从实际的入手吧\n",
    "多思考，自己先尝试解决问题，然后和其他人多交流，最后弄不明白的问老师\n",
    "多动手，你有了一个想法，就尽快转换成代码，跑回测，透过回测结果，去查问题，是代码，还是策略的逻辑，不停地迭代，然后用课上老师教的方法论，对策略逐步求精\n",
    "\n",
    "时间安排\n",
    "\n",
    "1. 周末至周二白天，为复习和预习的时间；并开始尝试做下周的作业；周末晚上为讨论时间，讨论的课题都是老师们精心挑选的，所以同学们要多多参与；\n",
    "2. 周二晚上， 每周第一次授课时间，之前预习中有弄不明白的地方，可以问老师；\n",
    "3. 周三至周四白天，做作业；\n",
    "4. 周四晚上，每周第二次授课时间；\n",
    "5. 周五白天，最后做作业的时间，周五晚上就是习题课，回顾一周课程，对习题进行讲解；\n",
    "\n",
    "- 预习\n",
    "    - 每次课之前，都会先发课件，大家最好能提前进行预习，每周两次课，两次课间隔时间很短，所以尽量做到两次课的内容都提前过一遍，遇到不明白的，自己先上网找资料，尝试理解，最后听听老师课上怎么讲的；\n",
    "    - 因为本门课更注重实操，所以会涉及到代码，同学们最好能在课前就把代码通读一遍，课上老师很难做到逐行解释代码，所以同学们在线下要花更多的功夫才行；\n",
    "    \n",
    "- 上课\n",
    "    - 请大家尽量准时到点上课，虽然每次的课都有录播，但不推荐直接看录播，原因有两点，直播的时候，有问题，可以直接问老师，再者，看录播，做作业的时间就被压缩了，会打乱节奏；\n",
    "    - 听课的时候，要做笔记，每次课大约是两个小时，如果只是听老师讲一遍，很可能第二天就忘记了；\n",
    "    \n",
    "    - 如果作业想得高分，那么请在预习完之后开始做吧，因为每周的时间安排的非常满，"
   ]
  }
 ],
 "metadata": {
  "kernelspec": {
   "display_name": "Python (quant)",
   "language": "python",
   "name": "quant"
  },
  "language_info": {
   "codemirror_mode": {
    "name": "ipython",
    "version": 3
   },
   "file_extension": ".py",
   "mimetype": "text/x-python",
   "name": "python",
   "nbconvert_exporter": "python",
   "pygments_lexer": "ipython3",
   "version": "3.6.6"
  },
  "toc": {
   "base_numbering": 1,
   "nav_menu": {},
   "number_sections": true,
   "sideBar": true,
   "skip_h1_title": false,
   "title_cell": "Table of Contents",
   "title_sidebar": "Contents",
   "toc_cell": false,
   "toc_position": {},
   "toc_section_display": true,
   "toc_window_display": false
  },
  "varInspector": {
   "cols": {
    "lenName": 16,
    "lenType": 16,
    "lenVar": 40
   },
   "kernels_config": {
    "python": {
     "delete_cmd_postfix": "",
     "delete_cmd_prefix": "del ",
     "library": "var_list.py",
     "varRefreshCmd": "print(var_dic_list())"
    },
    "r": {
     "delete_cmd_postfix": ") ",
     "delete_cmd_prefix": "rm(",
     "library": "var_list.r",
     "varRefreshCmd": "cat(var_dic_list()) "
    }
   },
   "types_to_exclude": [
    "module",
    "function",
    "builtin_function_or_method",
    "instance",
    "_Feature"
   ],
   "window_display": false
  }
 },
 "nbformat": 4,
 "nbformat_minor": 2
}
