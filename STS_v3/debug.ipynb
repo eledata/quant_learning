{
 "cells": [
  {
   "cell_type": "code",
   "execution_count": 2,
   "metadata": {},
   "outputs": [],
   "source": [
    "%load_ext autoreload\n",
    "%autoreload 2"
   ]
  },
  {
   "cell_type": "code",
   "execution_count": 3,
   "metadata": {},
   "outputs": [],
   "source": [
    "import numpy as np\n",
    "import pandas as pd\n",
    "import matplotlib.pyplot as plt\n",
    "import seaborn as sns\n",
    "# import statsmodels.api as sm\n",
    "import tushare as ts\n",
    "import QUANTAXIS as QA\n",
    "import talib as ta\n",
    "import datetime, time\n"
   ]
  },
  {
   "cell_type": "code",
   "execution_count": 4,
   "metadata": {},
   "outputs": [],
   "source": [
    "code = '002397'\n",
    "start = '2015-01-01'\n",
    "end = '2015-12-31'\n",
    "df = ts.get_k_data(code, start, end)"
   ]
  },
  {
   "cell_type": "code",
   "execution_count": 5,
   "metadata": {},
   "outputs": [
    {
     "data": {
      "text/html": [
       "<div>\n",
       "<style scoped>\n",
       "    .dataframe tbody tr th:only-of-type {\n",
       "        vertical-align: middle;\n",
       "    }\n",
       "\n",
       "    .dataframe tbody tr th {\n",
       "        vertical-align: top;\n",
       "    }\n",
       "\n",
       "    .dataframe thead th {\n",
       "        text-align: right;\n",
       "    }\n",
       "</style>\n",
       "<table border=\"1\" class=\"dataframe\">\n",
       "  <thead>\n",
       "    <tr style=\"text-align: right;\">\n",
       "      <th></th>\n",
       "      <th>date</th>\n",
       "      <th>open</th>\n",
       "      <th>close</th>\n",
       "      <th>high</th>\n",
       "      <th>low</th>\n",
       "      <th>volume</th>\n",
       "      <th>code</th>\n",
       "    </tr>\n",
       "  </thead>\n",
       "  <tbody>\n",
       "    <tr>\n",
       "      <th>0</th>\n",
       "      <td>2015-01-05</td>\n",
       "      <td>4.210</td>\n",
       "      <td>4.262</td>\n",
       "      <td>4.288</td>\n",
       "      <td>4.210</td>\n",
       "      <td>22849.0</td>\n",
       "      <td>002397</td>\n",
       "    </tr>\n",
       "    <tr>\n",
       "      <th>1</th>\n",
       "      <td>2015-01-06</td>\n",
       "      <td>4.262</td>\n",
       "      <td>4.279</td>\n",
       "      <td>4.284</td>\n",
       "      <td>4.188</td>\n",
       "      <td>30547.0</td>\n",
       "      <td>002397</td>\n",
       "    </tr>\n",
       "    <tr>\n",
       "      <th>2</th>\n",
       "      <td>2015-01-07</td>\n",
       "      <td>4.279</td>\n",
       "      <td>4.244</td>\n",
       "      <td>4.331</td>\n",
       "      <td>4.210</td>\n",
       "      <td>21427.0</td>\n",
       "      <td>002397</td>\n",
       "    </tr>\n",
       "    <tr>\n",
       "      <th>3</th>\n",
       "      <td>2015-01-08</td>\n",
       "      <td>4.227</td>\n",
       "      <td>4.210</td>\n",
       "      <td>4.236</td>\n",
       "      <td>4.175</td>\n",
       "      <td>17076.0</td>\n",
       "      <td>002397</td>\n",
       "    </tr>\n",
       "    <tr>\n",
       "      <th>4</th>\n",
       "      <td>2015-01-09</td>\n",
       "      <td>4.227</td>\n",
       "      <td>4.149</td>\n",
       "      <td>4.236</td>\n",
       "      <td>4.149</td>\n",
       "      <td>25665.0</td>\n",
       "      <td>002397</td>\n",
       "    </tr>\n",
       "  </tbody>\n",
       "</table>\n",
       "</div>"
      ],
      "text/plain": [
       "         date   open  close   high    low   volume    code\n",
       "0  2015-01-05  4.210  4.262  4.288  4.210  22849.0  002397\n",
       "1  2015-01-06  4.262  4.279  4.284  4.188  30547.0  002397\n",
       "2  2015-01-07  4.279  4.244  4.331  4.210  21427.0  002397\n",
       "3  2015-01-08  4.227  4.210  4.236  4.175  17076.0  002397\n",
       "4  2015-01-09  4.227  4.149  4.236  4.149  25665.0  002397"
      ]
     },
     "execution_count": 5,
     "metadata": {},
     "output_type": "execute_result"
    }
   ],
   "source": [
    "df.head()"
   ]
  },
  {
   "cell_type": "code",
   "execution_count": 6,
   "metadata": {},
   "outputs": [
    {
     "data": {
      "text/html": [
       "<div>\n",
       "<style scoped>\n",
       "    .dataframe tbody tr th:only-of-type {\n",
       "        vertical-align: middle;\n",
       "    }\n",
       "\n",
       "    .dataframe tbody tr th {\n",
       "        vertical-align: top;\n",
       "    }\n",
       "\n",
       "    .dataframe thead th {\n",
       "        text-align: right;\n",
       "    }\n",
       "</style>\n",
       "<table border=\"1\" class=\"dataframe\">\n",
       "  <thead>\n",
       "    <tr style=\"text-align: right;\">\n",
       "      <th></th>\n",
       "      <th>date</th>\n",
       "      <th>open</th>\n",
       "      <th>close</th>\n",
       "      <th>high</th>\n",
       "      <th>low</th>\n",
       "      <th>volume</th>\n",
       "      <th>code</th>\n",
       "    </tr>\n",
       "  </thead>\n",
       "  <tbody>\n",
       "    <tr>\n",
       "      <th>235</th>\n",
       "      <td>2015-12-25</td>\n",
       "      <td>9.667</td>\n",
       "      <td>9.840</td>\n",
       "      <td>9.888</td>\n",
       "      <td>9.619</td>\n",
       "      <td>103625.0</td>\n",
       "      <td>002397</td>\n",
       "    </tr>\n",
       "    <tr>\n",
       "      <th>236</th>\n",
       "      <td>2015-12-28</td>\n",
       "      <td>9.869</td>\n",
       "      <td>9.475</td>\n",
       "      <td>10.003</td>\n",
       "      <td>9.465</td>\n",
       "      <td>139316.0</td>\n",
       "      <td>002397</td>\n",
       "    </tr>\n",
       "    <tr>\n",
       "      <th>237</th>\n",
       "      <td>2015-12-29</td>\n",
       "      <td>9.417</td>\n",
       "      <td>9.571</td>\n",
       "      <td>9.580</td>\n",
       "      <td>9.273</td>\n",
       "      <td>90032.0</td>\n",
       "      <td>002397</td>\n",
       "    </tr>\n",
       "    <tr>\n",
       "      <th>238</th>\n",
       "      <td>2015-12-30</td>\n",
       "      <td>9.600</td>\n",
       "      <td>9.696</td>\n",
       "      <td>9.705</td>\n",
       "      <td>9.504</td>\n",
       "      <td>86177.0</td>\n",
       "      <td>002397</td>\n",
       "    </tr>\n",
       "    <tr>\n",
       "      <th>239</th>\n",
       "      <td>2015-12-31</td>\n",
       "      <td>9.638</td>\n",
       "      <td>9.878</td>\n",
       "      <td>9.984</td>\n",
       "      <td>9.638</td>\n",
       "      <td>160993.0</td>\n",
       "      <td>002397</td>\n",
       "    </tr>\n",
       "  </tbody>\n",
       "</table>\n",
       "</div>"
      ],
      "text/plain": [
       "           date   open  close    high    low    volume    code\n",
       "235  2015-12-25  9.667  9.840   9.888  9.619  103625.0  002397\n",
       "236  2015-12-28  9.869  9.475  10.003  9.465  139316.0  002397\n",
       "237  2015-12-29  9.417  9.571   9.580  9.273   90032.0  002397\n",
       "238  2015-12-30  9.600  9.696   9.705  9.504   86177.0  002397\n",
       "239  2015-12-31  9.638  9.878   9.984  9.638  160993.0  002397"
      ]
     },
     "execution_count": 6,
     "metadata": {},
     "output_type": "execute_result"
    }
   ],
   "source": [
    "df.tail()"
   ]
  }
 ],
 "metadata": {
  "kernelspec": {
   "display_name": "Python (quant)",
   "language": "python",
   "name": "quant"
  },
  "language_info": {
   "codemirror_mode": {
    "name": "ipython",
    "version": 3
   },
   "file_extension": ".py",
   "mimetype": "text/x-python",
   "name": "python",
   "nbconvert_exporter": "python",
   "pygments_lexer": "ipython3",
   "version": "3.6.6"
  },
  "toc": {
   "base_numbering": 1,
   "nav_menu": {},
   "number_sections": true,
   "sideBar": true,
   "skip_h1_title": false,
   "title_cell": "Table of Contents",
   "title_sidebar": "Contents",
   "toc_cell": false,
   "toc_position": {},
   "toc_section_display": true,
   "toc_window_display": false
  },
  "varInspector": {
   "cols": {
    "lenName": 16,
    "lenType": 16,
    "lenVar": 40
   },
   "kernels_config": {
    "python": {
     "delete_cmd_postfix": "",
     "delete_cmd_prefix": "del ",
     "library": "var_list.py",
     "varRefreshCmd": "print(var_dic_list())"
    },
    "r": {
     "delete_cmd_postfix": ") ",
     "delete_cmd_prefix": "rm(",
     "library": "var_list.r",
     "varRefreshCmd": "cat(var_dic_list()) "
    }
   },
   "types_to_exclude": [
    "module",
    "function",
    "builtin_function_or_method",
    "instance",
    "_Feature"
   ],
   "window_display": false
  }
 },
 "nbformat": 4,
 "nbformat_minor": 2
}
