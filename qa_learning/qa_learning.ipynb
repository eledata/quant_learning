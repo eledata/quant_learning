{
 "cells": [
  {
   "cell_type": "code",
   "execution_count": 2,
   "metadata": {},
   "outputs": [],
   "source": [
    "import os\n",
    "import glob"
   ]
  },
  {
   "cell_type": "code",
   "execution_count": 17,
   "metadata": {},
   "outputs": [],
   "source": [
    "# os.getcwd()"
   ]
  },
  {
   "cell_type": "code",
   "execution_count": 18,
   "metadata": {},
   "outputs": [],
   "source": [
    "# glob.glob(r'C:/work/python/QUANTAXIS/QUANTAXIS/')"
   ]
  },
  {
   "cell_type": "code",
   "execution_count": 19,
   "metadata": {
    "scrolled": true
   },
   "outputs": [],
   "source": [
    "qa_listdir = os.listdir(r'C:/work/python/QUANTAXIS/QUANTAXIS/')"
   ]
  },
  {
   "cell_type": "code",
   "execution_count": 26,
   "metadata": {
    "collapsed": true
   },
   "outputs": [
    {
     "data": {
      "text/plain": [
       "['QAAnalysis',\n",
       " 'QAApplication',\n",
       " 'QAARP',\n",
       " 'QACmd',\n",
       " 'QAData',\n",
       " 'QAEngine',\n",
       " 'QAFetch',\n",
       " 'QAIndicator',\n",
       " 'QAMarket',\n",
       " 'QASchedule',\n",
       " 'QASelector',\n",
       " 'QASetting',\n",
       " 'QASU',\n",
       " 'QAUtil',\n",
       " 'QAWeb']"
      ]
     },
     "execution_count": 26,
     "metadata": {},
     "output_type": "execute_result"
    }
   ],
   "source": [
    "qa_listdir[:-3]"
   ]
  },
  {
   "cell_type": "code",
   "execution_count": 23,
   "metadata": {},
   "outputs": [
    {
     "data": {
      "text/plain": [
       "15"
      ]
     },
     "execution_count": 23,
     "metadata": {},
     "output_type": "execute_result"
    }
   ],
   "source": [
    "len(qa_listdir[:-3])"
   ]
  },
  {
   "cell_type": "markdown",
   "metadata": {},
   "source": [
    "可以看到qa有15个模块"
   ]
  },
  {
   "cell_type": "markdown",
   "metadata": {},
   "source": [
    "1. AAnalysis 分析类 (block/stock/account)\n",
    "2. QAApplication 应用类 (backtest/模拟盘/实盘)\n",
    "3. QAARP\n",
    "    - A -- account\n",
    "    - R -- risk\n",
    "    - P -- portfolio\n",
    "4. QACmd 命令行交互模块\n",
    "5. QAData 数据预清洗\n",
    "6. QAEngine 多线程, 多事件\n",
    "7. QAFetch -- 数据获取/网络/api/本地\n",
    "8. QAIndicator 指标方法\n",
    "9. QAMarket 多市场/接口\n",
    "10. QASchedule xmind里没有进行说明\n",
    "11. QASelector xmind里没有进行说明\n",
    "12. QASetting 本地化设置\n",
    "13. QASU\n",
    "    - S -- save\n",
    "    - U -- update\n",
    "14. QAUtil -- 工具类\n",
    "15. QAWeb -- 目测应该独立出去了"
   ]
  },
  {
   "cell_type": "markdown",
   "metadata": {},
   "source": [
    "独立出去的模块\n",
    "\n",
    "1. QUANTAXIS_WEBSERVER\n",
    "    - 基于Tornado的quantaxis服务端\n",
    "2. QUANTAXIS_DESKTOP\n",
    "    - 基于Electron/VUE的桌面客户端\n",
    "3. QUANTAXIS_Run\n",
    "    - 基于celery的分布式worker"
   ]
  },
  {
   "cell_type": "markdown",
   "metadata": {},
   "source": [
    "- QUANTAXIS \n",
    "    - 负责整个quantaxis的基础功能\n",
    "    - 包含数据运维/回测/实盘管理\n",
    "- QUANTAXIS_RUN \n",
    "    - 负责quantaxis的任务分发\n",
    "    - 和任务状态管理\n",
    "- QUANTAXIS_WEBSERVER \n",
    "    - 负责quantaxis的持续化运行\n",
    "    - 以及后端服务的提供\n",
    "- QUANTAXIS_DESKTOP \n",
    "    - quantaxis的桌面产品\n",
    "    - 负责数据可视化和产品的运行\n",
    "- QUANTAXIS_WECHAT \n",
    "    - quantaxis手机端解决方案\n",
    "    - 包含提醒,任务追踪,策略部署\n",
    "- QUANTAXIS_CLUSTER \n",
    "    - 包含了docker, 数据库集群解决方案"
   ]
  },
  {
   "cell_type": "markdown",
   "metadata": {},
   "source": [
    "我们先从QAFetch入手吧"
   ]
  },
  {
   "cell_type": "markdown",
   "metadata": {},
   "source": [
    "## QAFetch"
   ]
  },
  {
   "cell_type": "markdown",
   "metadata": {},
   "source": [
    "### QAFetch.\\_\\_init\\_\\_"
   ]
  },
  {
   "cell_type": "markdown",
   "metadata": {},
   "source": [
    "function use\n"
   ]
  }
 ],
 "metadata": {
  "kernelspec": {
   "display_name": "Python 3",
   "language": "python",
   "name": "python3"
  },
  "language_info": {
   "codemirror_mode": {
    "name": "ipython",
    "version": 3
   },
   "file_extension": ".py",
   "mimetype": "text/x-python",
   "name": "python",
   "nbconvert_exporter": "python",
   "pygments_lexer": "ipython3",
   "version": "3.6.5"
  },
  "toc": {
   "base_numbering": 1,
   "nav_menu": {},
   "number_sections": true,
   "sideBar": true,
   "skip_h1_title": false,
   "title_cell": "Table of Contents",
   "title_sidebar": "Contents",
   "toc_cell": false,
   "toc_position": {},
   "toc_section_display": true,
   "toc_window_display": false
  },
  "varInspector": {
   "cols": {
    "lenName": 16,
    "lenType": 16,
    "lenVar": 40
   },
   "kernels_config": {
    "python": {
     "delete_cmd_postfix": "",
     "delete_cmd_prefix": "del ",
     "library": "var_list.py",
     "varRefreshCmd": "print(var_dic_list())"
    },
    "r": {
     "delete_cmd_postfix": ") ",
     "delete_cmd_prefix": "rm(",
     "library": "var_list.r",
     "varRefreshCmd": "cat(var_dic_list()) "
    }
   },
   "types_to_exclude": [
    "module",
    "function",
    "builtin_function_or_method",
    "instance",
    "_Feature"
   ],
   "window_display": false
  }
 },
 "nbformat": 4,
 "nbformat_minor": 2
}
